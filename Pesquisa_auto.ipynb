{
 "cells": [
  {
   "cell_type": "markdown",
   "metadata": {},
   "source": [
    "# Base de automóveis\n",
    "Análise das notas atribuídas pelo consumidores para Imagem, Preço e Utilitário\n"
   ]
  },
  {
   "cell_type": "code",
   "execution_count": 89,
   "metadata": {},
   "outputs": [],
   "source": [
    "import pandas as pd\n",
    "%matplotlib inline"
   ]
  },
  {
   "cell_type": "code",
   "execution_count": 90,
   "metadata": {},
   "outputs": [
    {
     "data": {
      "text/html": [
       "<div>\n",
       "<style scoped>\n",
       "    .dataframe tbody tr th:only-of-type {\n",
       "        vertical-align: middle;\n",
       "    }\n",
       "\n",
       "    .dataframe tbody tr th {\n",
       "        vertical-align: top;\n",
       "    }\n",
       "\n",
       "    .dataframe thead th {\n",
       "        text-align: right;\n",
       "    }\n",
       "</style>\n",
       "<table border=\"1\" class=\"dataframe\">\n",
       "  <thead>\n",
       "    <tr style=\"text-align: right;\">\n",
       "      <th></th>\n",
       "      <th>Respondente</th>\n",
       "      <th>Imagem</th>\n",
       "      <th>Utilitário</th>\n",
       "      <th>Preço</th>\n",
       "      <th>Gênero</th>\n",
       "      <th>Estado Civil</th>\n",
       "      <th>Idade</th>\n",
       "      <th>Filhos</th>\n",
       "      <th>Renda</th>\n",
       "      <th>Pequeno</th>\n",
       "      <th>Protótipo</th>\n",
       "      <th>cluster</th>\n",
       "    </tr>\n",
       "  </thead>\n",
       "  <tbody>\n",
       "    <tr>\n",
       "      <th>0</th>\n",
       "      <td>1</td>\n",
       "      <td>2.52</td>\n",
       "      <td>3.05</td>\n",
       "      <td>2.90</td>\n",
       "      <td>F</td>\n",
       "      <td>Solteiro</td>\n",
       "      <td>Seniores</td>\n",
       "      <td>Não</td>\n",
       "      <td>A</td>\n",
       "      <td>não</td>\n",
       "      <td>1</td>\n",
       "      <td>1</td>\n",
       "    </tr>\n",
       "    <tr>\n",
       "      <th>1</th>\n",
       "      <td>2</td>\n",
       "      <td>3.16</td>\n",
       "      <td>1.50</td>\n",
       "      <td>0.94</td>\n",
       "      <td>M</td>\n",
       "      <td>Casado</td>\n",
       "      <td>Jovens</td>\n",
       "      <td>Sim</td>\n",
       "      <td>B</td>\n",
       "      <td>não</td>\n",
       "      <td>3</td>\n",
       "      <td>2</td>\n",
       "    </tr>\n",
       "    <tr>\n",
       "      <th>2</th>\n",
       "      <td>3</td>\n",
       "      <td>0.58</td>\n",
       "      <td>0.27</td>\n",
       "      <td>2.79</td>\n",
       "      <td>F</td>\n",
       "      <td>Solteiro</td>\n",
       "      <td>Maduros</td>\n",
       "      <td>Não</td>\n",
       "      <td>C</td>\n",
       "      <td>não</td>\n",
       "      <td>2</td>\n",
       "      <td>3</td>\n",
       "    </tr>\n",
       "    <tr>\n",
       "      <th>3</th>\n",
       "      <td>4</td>\n",
       "      <td>2.76</td>\n",
       "      <td>2.70</td>\n",
       "      <td>3.55</td>\n",
       "      <td>M</td>\n",
       "      <td>Solteiro</td>\n",
       "      <td>Seniores</td>\n",
       "      <td>Não</td>\n",
       "      <td>B</td>\n",
       "      <td>não</td>\n",
       "      <td>2</td>\n",
       "      <td>1</td>\n",
       "    </tr>\n",
       "    <tr>\n",
       "      <th>4</th>\n",
       "      <td>5</td>\n",
       "      <td>0.94</td>\n",
       "      <td>1.99</td>\n",
       "      <td>1.86</td>\n",
       "      <td>F</td>\n",
       "      <td>Casado</td>\n",
       "      <td>Seniores</td>\n",
       "      <td>Sim</td>\n",
       "      <td>B</td>\n",
       "      <td>não</td>\n",
       "      <td>2</td>\n",
       "      <td>3</td>\n",
       "    </tr>\n",
       "  </tbody>\n",
       "</table>\n",
       "</div>"
      ],
      "text/plain": [
       "   Respondente  Imagem  Utilitário  Preço Gênero Estado Civil     Idade  \\\n",
       "0            1    2.52        3.05   2.90      F     Solteiro  Seniores   \n",
       "1            2    3.16        1.50   0.94      M       Casado    Jovens   \n",
       "2            3    0.58        0.27   2.79      F     Solteiro   Maduros   \n",
       "3            4    2.76        2.70   3.55      M     Solteiro  Seniores   \n",
       "4            5    0.94        1.99   1.86      F       Casado  Seniores   \n",
       "\n",
       "  Filhos Renda Pequeno  Protótipo  cluster  \n",
       "0    Não     A     não          1        1  \n",
       "1    Sim     B     não          3        2  \n",
       "2    Não     C     não          2        3  \n",
       "3    Não     B     não          2        1  \n",
       "4    Sim     B     não          2        3  "
      ]
     },
     "execution_count": 90,
     "metadata": {},
     "output_type": "execute_result"
    }
   ],
   "source": [
    "df = pd.read_excel('Base_auto.xlsx')\n",
    "df.head()"
   ]
  },
  {
   "cell_type": "code",
   "execution_count": 131,
   "metadata": {},
   "outputs": [
    {
     "data": {
      "text/html": [
       "<div>\n",
       "<style scoped>\n",
       "    .dataframe tbody tr th:only-of-type {\n",
       "        vertical-align: middle;\n",
       "    }\n",
       "\n",
       "    .dataframe tbody tr th {\n",
       "        vertical-align: top;\n",
       "    }\n",
       "\n",
       "    .dataframe thead th {\n",
       "        text-align: right;\n",
       "    }\n",
       "</style>\n",
       "<table border=\"1\" class=\"dataframe\">\n",
       "  <thead>\n",
       "    <tr style=\"text-align: right;\">\n",
       "      <th></th>\n",
       "      <th>Respondente</th>\n",
       "      <th>Imagem</th>\n",
       "      <th>Utilitário</th>\n",
       "      <th>Preço</th>\n",
       "      <th>Protótipo</th>\n",
       "      <th>cluster</th>\n",
       "    </tr>\n",
       "  </thead>\n",
       "  <tbody>\n",
       "    <tr>\n",
       "      <th>count</th>\n",
       "      <td>250.000000</td>\n",
       "      <td>250.000000</td>\n",
       "      <td>250.00000</td>\n",
       "      <td>250.000000</td>\n",
       "      <td>250.000000</td>\n",
       "      <td>250.000000</td>\n",
       "    </tr>\n",
       "    <tr>\n",
       "      <th>mean</th>\n",
       "      <td>125.500000</td>\n",
       "      <td>2.003640</td>\n",
       "      <td>2.10532</td>\n",
       "      <td>1.867120</td>\n",
       "      <td>2.060000</td>\n",
       "      <td>2.192000</td>\n",
       "    </tr>\n",
       "    <tr>\n",
       "      <th>std</th>\n",
       "      <td>72.312977</td>\n",
       "      <td>0.999633</td>\n",
       "      <td>1.00006</td>\n",
       "      <td>0.999963</td>\n",
       "      <td>0.796831</td>\n",
       "      <td>1.019457</td>\n",
       "    </tr>\n",
       "    <tr>\n",
       "      <th>min</th>\n",
       "      <td>1.000000</td>\n",
       "      <td>0.000000</td>\n",
       "      <td>0.00000</td>\n",
       "      <td>0.000000</td>\n",
       "      <td>1.000000</td>\n",
       "      <td>1.000000</td>\n",
       "    </tr>\n",
       "    <tr>\n",
       "      <th>25%</th>\n",
       "      <td>63.250000</td>\n",
       "      <td>1.000000</td>\n",
       "      <td>1.26250</td>\n",
       "      <td>0.940000</td>\n",
       "      <td>1.000000</td>\n",
       "      <td>1.000000</td>\n",
       "    </tr>\n",
       "    <tr>\n",
       "      <th>50%</th>\n",
       "      <td>125.500000</td>\n",
       "      <td>2.245000</td>\n",
       "      <td>1.88000</td>\n",
       "      <td>1.990000</td>\n",
       "      <td>2.000000</td>\n",
       "      <td>2.000000</td>\n",
       "    </tr>\n",
       "    <tr>\n",
       "      <th>75%</th>\n",
       "      <td>187.750000</td>\n",
       "      <td>2.930000</td>\n",
       "      <td>3.05000</td>\n",
       "      <td>2.727500</td>\n",
       "      <td>3.000000</td>\n",
       "      <td>3.000000</td>\n",
       "    </tr>\n",
       "    <tr>\n",
       "      <th>max</th>\n",
       "      <td>250.000000</td>\n",
       "      <td>3.590000</td>\n",
       "      <td>4.17000</td>\n",
       "      <td>3.990000</td>\n",
       "      <td>3.000000</td>\n",
       "      <td>4.000000</td>\n",
       "    </tr>\n",
       "  </tbody>\n",
       "</table>\n",
       "</div>"
      ],
      "text/plain": [
       "       Respondente      Imagem  Utilitário       Preço   Protótipo     cluster\n",
       "count   250.000000  250.000000   250.00000  250.000000  250.000000  250.000000\n",
       "mean    125.500000    2.003640     2.10532    1.867120    2.060000    2.192000\n",
       "std      72.312977    0.999633     1.00006    0.999963    0.796831    1.019457\n",
       "min       1.000000    0.000000     0.00000    0.000000    1.000000    1.000000\n",
       "25%      63.250000    1.000000     1.26250    0.940000    1.000000    1.000000\n",
       "50%     125.500000    2.245000     1.88000    1.990000    2.000000    2.000000\n",
       "75%     187.750000    2.930000     3.05000    2.727500    3.000000    3.000000\n",
       "max     250.000000    3.590000     4.17000    3.990000    3.000000    4.000000"
      ]
     },
     "execution_count": 131,
     "metadata": {},
     "output_type": "execute_result"
    }
   ],
   "source": [
    "#estatística descritiva das variáveis quantitativas\n",
    "df.describe()"
   ]
  },
  {
   "cell_type": "code",
   "execution_count": 91,
   "metadata": {},
   "outputs": [
    {
     "data": {
      "text/plain": [
       "Casado      155\n",
       "Solteiro     95\n",
       "Name: Estado Civil, dtype: int64"
      ]
     },
     "execution_count": 91,
     "metadata": {},
     "output_type": "execute_result"
    }
   ],
   "source": [
    "#Do total de consumidores entrevistados, quantos são casados e quantos são solteiros?\n",
    "df['Estado Civil'].value_counts()"
   ]
  },
  {
   "cell_type": "code",
   "execution_count": 92,
   "metadata": {
    "scrolled": true
   },
   "outputs": [
    {
     "data": {
      "text/plain": [
       "<matplotlib.axes._subplots.AxesSubplot at 0x1bd09c1fa88>"
      ]
     },
     "execution_count": 92,
     "metadata": {},
     "output_type": "execute_result"
    },
    {
     "data": {
      "image/png": "[encoded data removed]",
      "text/plain": [
       "<Figure size 432x288 with 1 Axes>"
      ]
     },
     "metadata": {
      "needs_background": "light"
     },
     "output_type": "display_data"
    }
   ],
   "source": [
    "#Representação gráfica da idade dos entrevistados.\n",
    "df['Idade'].value_counts().plot.barh(title='Faixa etária')"
   ]
  },
  {
   "cell_type": "code",
   "execution_count": 93,
   "metadata": {},
   "outputs": [
    {
     "data": {
      "text/plain": [
       "array(['A', 'B', 'C'], dtype=object)"
      ]
     },
     "execution_count": 93,
     "metadata": {},
     "output_type": "execute_result"
    }
   ],
   "source": [
    "#quais são as faixas de renda dos consumidores entrevistados?\n",
    "df['Renda'].unique()"
   ]
  },
  {
   "cell_type": "code",
   "execution_count": 94,
   "metadata": {
    "scrolled": true
   },
   "outputs": [
    {
     "data": {
      "text/html": [
       "<div>\n",
       "<style scoped>\n",
       "    .dataframe tbody tr th:only-of-type {\n",
       "        vertical-align: middle;\n",
       "    }\n",
       "\n",
       "    .dataframe tbody tr th {\n",
       "        vertical-align: top;\n",
       "    }\n",
       "\n",
       "    .dataframe thead th {\n",
       "        text-align: right;\n",
       "    }\n",
       "</style>\n",
       "<table border=\"1\" class=\"dataframe\">\n",
       "  <thead>\n",
       "    <tr style=\"text-align: right;\">\n",
       "      <th></th>\n",
       "      <th>Respondente</th>\n",
       "      <th>Imagem</th>\n",
       "      <th>Utilitário</th>\n",
       "      <th>Preço</th>\n",
       "      <th>Gênero</th>\n",
       "      <th>Estado Civil</th>\n",
       "      <th>Idade</th>\n",
       "      <th>Filhos</th>\n",
       "      <th>Renda</th>\n",
       "      <th>Pequeno</th>\n",
       "      <th>Protótipo</th>\n",
       "      <th>cluster</th>\n",
       "    </tr>\n",
       "  </thead>\n",
       "  <tbody>\n",
       "    <tr>\n",
       "      <th>0</th>\n",
       "      <td>1</td>\n",
       "      <td>2.52</td>\n",
       "      <td>3.05</td>\n",
       "      <td>2.90</td>\n",
       "      <td>F</td>\n",
       "      <td>Solteiro</td>\n",
       "      <td>Seniores</td>\n",
       "      <td>Não</td>\n",
       "      <td>A</td>\n",
       "      <td>não</td>\n",
       "      <td>1</td>\n",
       "      <td>1</td>\n",
       "    </tr>\n",
       "    <tr>\n",
       "      <th>2</th>\n",
       "      <td>3</td>\n",
       "      <td>0.58</td>\n",
       "      <td>0.27</td>\n",
       "      <td>2.79</td>\n",
       "      <td>F</td>\n",
       "      <td>Solteiro</td>\n",
       "      <td>Maduros</td>\n",
       "      <td>Não</td>\n",
       "      <td>C</td>\n",
       "      <td>não</td>\n",
       "      <td>2</td>\n",
       "      <td>3</td>\n",
       "    </tr>\n",
       "    <tr>\n",
       "      <th>4</th>\n",
       "      <td>5</td>\n",
       "      <td>0.94</td>\n",
       "      <td>1.99</td>\n",
       "      <td>1.86</td>\n",
       "      <td>F</td>\n",
       "      <td>Casado</td>\n",
       "      <td>Seniores</td>\n",
       "      <td>Sim</td>\n",
       "      <td>B</td>\n",
       "      <td>não</td>\n",
       "      <td>2</td>\n",
       "      <td>3</td>\n",
       "    </tr>\n",
       "  </tbody>\n",
       "</table>\n",
       "</div>"
      ],
      "text/plain": [
       "   Respondente  Imagem  Utilitário  Preço Gênero Estado Civil     Idade  \\\n",
       "0            1    2.52        3.05   2.90      F     Solteiro  Seniores   \n",
       "2            3    0.58        0.27   2.79      F     Solteiro   Maduros   \n",
       "4            5    0.94        1.99   1.86      F       Casado  Seniores   \n",
       "\n",
       "  Filhos Renda Pequeno  Protótipo  cluster  \n",
       "0    Não     A     não          1        1  \n",
       "2    Não     C     não          2        3  \n",
       "4    Sim     B     não          2        3  "
      ]
     },
     "execution_count": 94,
     "metadata": {},
     "output_type": "execute_result"
    }
   ],
   "source": [
    "#criando um novo df contendo somente o sexo feminino\n",
    "df_fem = df[df['Gênero'] == 'F']\n",
    "df_fem.head(3)"
   ]
  },
  {
   "cell_type": "code",
   "execution_count": 95,
   "metadata": {
    "scrolled": true
   },
   "outputs": [
    {
     "data": {
      "text/html": [
       "<div>\n",
       "<style scoped>\n",
       "    .dataframe tbody tr th:only-of-type {\n",
       "        vertical-align: middle;\n",
       "    }\n",
       "\n",
       "    .dataframe tbody tr th {\n",
       "        vertical-align: top;\n",
       "    }\n",
       "\n",
       "    .dataframe thead th {\n",
       "        text-align: right;\n",
       "    }\n",
       "</style>\n",
       "<table border=\"1\" class=\"dataframe\">\n",
       "  <thead>\n",
       "    <tr style=\"text-align: right;\">\n",
       "      <th></th>\n",
       "      <th>Respondente</th>\n",
       "      <th>Imagem</th>\n",
       "      <th>Utilitário</th>\n",
       "      <th>Preço</th>\n",
       "      <th>Gênero</th>\n",
       "      <th>Estado Civil</th>\n",
       "      <th>Idade</th>\n",
       "      <th>Filhos</th>\n",
       "      <th>Renda</th>\n",
       "      <th>Pequeno</th>\n",
       "      <th>Protótipo</th>\n",
       "      <th>cluster</th>\n",
       "    </tr>\n",
       "  </thead>\n",
       "  <tbody>\n",
       "    <tr>\n",
       "      <th>1</th>\n",
       "      <td>2</td>\n",
       "      <td>3.16</td>\n",
       "      <td>1.50</td>\n",
       "      <td>0.94</td>\n",
       "      <td>M</td>\n",
       "      <td>Casado</td>\n",
       "      <td>Jovens</td>\n",
       "      <td>Sim</td>\n",
       "      <td>B</td>\n",
       "      <td>não</td>\n",
       "      <td>3</td>\n",
       "      <td>2</td>\n",
       "    </tr>\n",
       "    <tr>\n",
       "      <th>3</th>\n",
       "      <td>4</td>\n",
       "      <td>2.76</td>\n",
       "      <td>2.70</td>\n",
       "      <td>3.55</td>\n",
       "      <td>M</td>\n",
       "      <td>Solteiro</td>\n",
       "      <td>Seniores</td>\n",
       "      <td>Não</td>\n",
       "      <td>B</td>\n",
       "      <td>não</td>\n",
       "      <td>2</td>\n",
       "      <td>1</td>\n",
       "    </tr>\n",
       "    <tr>\n",
       "      <th>6</th>\n",
       "      <td>7</td>\n",
       "      <td>2.75</td>\n",
       "      <td>1.05</td>\n",
       "      <td>0.80</td>\n",
       "      <td>M</td>\n",
       "      <td>Solteiro</td>\n",
       "      <td>Maduros</td>\n",
       "      <td>Não</td>\n",
       "      <td>A</td>\n",
       "      <td>não</td>\n",
       "      <td>3</td>\n",
       "      <td>2</td>\n",
       "    </tr>\n",
       "  </tbody>\n",
       "</table>\n",
       "</div>"
      ],
      "text/plain": [
       "   Respondente  Imagem  Utilitário  Preço Gênero Estado Civil     Idade  \\\n",
       "1            2    3.16        1.50   0.94      M       Casado    Jovens   \n",
       "3            4    2.76        2.70   3.55      M     Solteiro  Seniores   \n",
       "6            7    2.75        1.05   0.80      M     Solteiro   Maduros   \n",
       "\n",
       "  Filhos Renda Pequeno  Protótipo  cluster  \n",
       "1    Sim     B     não          3        2  \n",
       "3    Não     B     não          2        1  \n",
       "6    Não     A     não          3        2  "
      ]
     },
     "execution_count": 95,
     "metadata": {},
     "output_type": "execute_result"
    }
   ],
   "source": [
    "#criando um novo df contendo somente o sexo masculino\n",
    "df_masc = df[df['Gênero'] == 'M']\n",
    "df_masc.head(3)"
   ]
  },
  {
   "cell_type": "code",
   "execution_count": 96,
   "metadata": {
    "scrolled": true
   },
   "outputs": [
    {
     "data": {
      "text/plain": [
       "Casado      73\n",
       "Solteiro    46\n",
       "Name: Estado Civil, dtype: int64"
      ]
     },
     "execution_count": 96,
     "metadata": {},
     "output_type": "execute_result"
    }
   ],
   "source": [
    "#considerando somente o sexo feminino, quantas mulheres são casadas e quantas são solteiras?\n",
    "df_fem['Estado Civil'].value_counts()"
   ]
  },
  {
   "cell_type": "code",
   "execution_count": 97,
   "metadata": {
    "scrolled": true
   },
   "outputs": [
    {
     "data": {
      "text/html": [
       "<div>\n",
       "<style scoped>\n",
       "    .dataframe tbody tr th:only-of-type {\n",
       "        vertical-align: middle;\n",
       "    }\n",
       "\n",
       "    .dataframe tbody tr th {\n",
       "        vertical-align: top;\n",
       "    }\n",
       "\n",
       "    .dataframe thead th {\n",
       "        text-align: right;\n",
       "    }\n",
       "</style>\n",
       "<table border=\"1\" class=\"dataframe\">\n",
       "  <thead>\n",
       "    <tr style=\"text-align: right;\">\n",
       "      <th></th>\n",
       "      <th>Respondente</th>\n",
       "      <th>Imagem</th>\n",
       "      <th>Utilitário</th>\n",
       "      <th>Preço</th>\n",
       "      <th>Gênero</th>\n",
       "      <th>Estado Civil</th>\n",
       "      <th>Idade</th>\n",
       "      <th>Filhos</th>\n",
       "      <th>Renda</th>\n",
       "      <th>Pequeno</th>\n",
       "      <th>Protótipo</th>\n",
       "      <th>cluster</th>\n",
       "    </tr>\n",
       "  </thead>\n",
       "  <tbody>\n",
       "    <tr>\n",
       "      <th>131</th>\n",
       "      <td>132</td>\n",
       "      <td>0.44</td>\n",
       "      <td>3.52</td>\n",
       "      <td>0.00</td>\n",
       "      <td>F</td>\n",
       "      <td>Casado</td>\n",
       "      <td>Maduros</td>\n",
       "      <td>Sim</td>\n",
       "      <td>B</td>\n",
       "      <td>não</td>\n",
       "      <td>1</td>\n",
       "      <td>4</td>\n",
       "    </tr>\n",
       "    <tr>\n",
       "      <th>196</th>\n",
       "      <td>197</td>\n",
       "      <td>0.45</td>\n",
       "      <td>3.51</td>\n",
       "      <td>0.05</td>\n",
       "      <td>F</td>\n",
       "      <td>Solteiro</td>\n",
       "      <td>Jovens</td>\n",
       "      <td>Não</td>\n",
       "      <td>B</td>\n",
       "      <td>não</td>\n",
       "      <td>1</td>\n",
       "      <td>4</td>\n",
       "    </tr>\n",
       "    <tr>\n",
       "      <th>212</th>\n",
       "      <td>213</td>\n",
       "      <td>0.77</td>\n",
       "      <td>3.68</td>\n",
       "      <td>0.15</td>\n",
       "      <td>F</td>\n",
       "      <td>Solteiro</td>\n",
       "      <td>Maduros</td>\n",
       "      <td>Sim</td>\n",
       "      <td>C</td>\n",
       "      <td>não</td>\n",
       "      <td>1</td>\n",
       "      <td>4</td>\n",
       "    </tr>\n",
       "    <tr>\n",
       "      <th>171</th>\n",
       "      <td>172</td>\n",
       "      <td>0.93</td>\n",
       "      <td>3.86</td>\n",
       "      <td>0.21</td>\n",
       "      <td>F</td>\n",
       "      <td>Casado</td>\n",
       "      <td>Seniores</td>\n",
       "      <td>Não</td>\n",
       "      <td>B</td>\n",
       "      <td>não</td>\n",
       "      <td>3</td>\n",
       "      <td>4</td>\n",
       "    </tr>\n",
       "    <tr>\n",
       "      <th>104</th>\n",
       "      <td>105</td>\n",
       "      <td>0.65</td>\n",
       "      <td>3.56</td>\n",
       "      <td>0.24</td>\n",
       "      <td>F</td>\n",
       "      <td>Casado</td>\n",
       "      <td>Maduros</td>\n",
       "      <td>Sim</td>\n",
       "      <td>A</td>\n",
       "      <td>não</td>\n",
       "      <td>1</td>\n",
       "      <td>4</td>\n",
       "    </tr>\n",
       "  </tbody>\n",
       "</table>\n",
       "</div>"
      ],
      "text/plain": [
       "     Respondente  Imagem  Utilitário  Preço Gênero Estado Civil     Idade  \\\n",
       "131          132    0.44        3.52   0.00      F       Casado   Maduros   \n",
       "196          197    0.45        3.51   0.05      F     Solteiro    Jovens   \n",
       "212          213    0.77        3.68   0.15      F     Solteiro   Maduros   \n",
       "171          172    0.93        3.86   0.21      F       Casado  Seniores   \n",
       "104          105    0.65        3.56   0.24      F       Casado   Maduros   \n",
       "\n",
       "    Filhos Renda Pequeno  Protótipo  cluster  \n",
       "131    Sim     B     não          1        4  \n",
       "196    Não     B     não          1        4  \n",
       "212    Sim     C     não          1        4  \n",
       "171    Não     B     não          3        4  \n",
       "104    Sim     A     não          1        4  "
      ]
     },
     "execution_count": 97,
     "metadata": {},
     "output_type": "execute_result"
    }
   ],
   "source": [
    "# Quais as 5 menores notas atribuídas ao \"Preço\"?\n",
    "df.nsmallest(5, 'Preço')"
   ]
  },
  {
   "cell_type": "code",
   "execution_count": 98,
   "metadata": {},
   "outputs": [
    {
     "data": {
      "text/html": [
       "<div>\n",
       "<style scoped>\n",
       "    .dataframe tbody tr th:only-of-type {\n",
       "        vertical-align: middle;\n",
       "    }\n",
       "\n",
       "    .dataframe tbody tr th {\n",
       "        vertical-align: top;\n",
       "    }\n",
       "\n",
       "    .dataframe thead th {\n",
       "        text-align: right;\n",
       "    }\n",
       "</style>\n",
       "<table border=\"1\" class=\"dataframe\">\n",
       "  <thead>\n",
       "    <tr style=\"text-align: right;\">\n",
       "      <th></th>\n",
       "      <th>Respondente</th>\n",
       "      <th>Imagem</th>\n",
       "      <th>Utilitário</th>\n",
       "      <th>Preço</th>\n",
       "      <th>Gênero</th>\n",
       "      <th>Estado Civil</th>\n",
       "      <th>Idade</th>\n",
       "      <th>Filhos</th>\n",
       "      <th>Renda</th>\n",
       "      <th>Pequeno</th>\n",
       "      <th>Protótipo</th>\n",
       "      <th>cluster</th>\n",
       "    </tr>\n",
       "  </thead>\n",
       "  <tbody>\n",
       "    <tr>\n",
       "      <th>71</th>\n",
       "      <td>72</td>\n",
       "      <td>2.72</td>\n",
       "      <td>2.57</td>\n",
       "      <td>3.99</td>\n",
       "      <td>M</td>\n",
       "      <td>Solteiro</td>\n",
       "      <td>Maduros</td>\n",
       "      <td>Sim</td>\n",
       "      <td>B</td>\n",
       "      <td>não</td>\n",
       "      <td>2</td>\n",
       "      <td>1</td>\n",
       "    </tr>\n",
       "    <tr>\n",
       "      <th>206</th>\n",
       "      <td>207</td>\n",
       "      <td>3.05</td>\n",
       "      <td>2.58</td>\n",
       "      <td>3.82</td>\n",
       "      <td>M</td>\n",
       "      <td>Casado</td>\n",
       "      <td>Seniores</td>\n",
       "      <td>Sim</td>\n",
       "      <td>C</td>\n",
       "      <td>sim</td>\n",
       "      <td>2</td>\n",
       "      <td>1</td>\n",
       "    </tr>\n",
       "    <tr>\n",
       "      <th>243</th>\n",
       "      <td>244</td>\n",
       "      <td>3.55</td>\n",
       "      <td>3.08</td>\n",
       "      <td>3.77</td>\n",
       "      <td>M</td>\n",
       "      <td>Casado</td>\n",
       "      <td>Jovens</td>\n",
       "      <td>Não</td>\n",
       "      <td>C</td>\n",
       "      <td>sim</td>\n",
       "      <td>3</td>\n",
       "      <td>1</td>\n",
       "    </tr>\n",
       "  </tbody>\n",
       "</table>\n",
       "</div>"
      ],
      "text/plain": [
       "     Respondente  Imagem  Utilitário  Preço Gênero Estado Civil     Idade  \\\n",
       "71            72    2.72        2.57   3.99      M     Solteiro   Maduros   \n",
       "206          207    3.05        2.58   3.82      M       Casado  Seniores   \n",
       "243          244    3.55        3.08   3.77      M       Casado    Jovens   \n",
       "\n",
       "    Filhos Renda Pequeno  Protótipo  cluster  \n",
       "71     Sim     B     não          2        1  \n",
       "206    Sim     C     sim          2        1  \n",
       "243    Não     C     sim          3        1  "
      ]
     },
     "execution_count": 98,
     "metadata": {},
     "output_type": "execute_result"
    }
   ],
   "source": [
    "# Quais são as 3 maiores notas atribuídas ao \"Preço\"?4\n",
    "df.nlargest(3, 'Preço')"
   ]
  },
  {
   "cell_type": "code",
   "execution_count": 132,
   "metadata": {},
   "outputs": [
    {
     "data": {
      "text/plain": [
       "2.3798473282442743"
      ]
     },
     "execution_count": 132,
     "metadata": {},
     "output_type": "execute_result"
    }
   ],
   "source": [
    "#qual a média das notas atribuídas a \"Imagem\" pelos homens?\n",
    "df_masc['Imagem'].mean()"
   ]
  },
  {
   "cell_type": "code",
   "execution_count": 133,
   "metadata": {},
   "outputs": [
    {
     "data": {
      "text/plain": [
       "1.589495798319328"
      ]
     },
     "execution_count": 133,
     "metadata": {},
     "output_type": "execute_result"
    }
   ],
   "source": [
    "#qual a média atribuída a \"Imagem\" pelas mulheres?\n",
    "df_fem[\"Imagem\"].mean()"
   ]
  },
  {
   "cell_type": "code",
   "execution_count": 101,
   "metadata": {},
   "outputs": [
    {
     "data": {
      "text/html": [
       "<div>\n",
       "<style scoped>\n",
       "    .dataframe tbody tr th:only-of-type {\n",
       "        vertical-align: middle;\n",
       "    }\n",
       "\n",
       "    .dataframe tbody tr th {\n",
       "        vertical-align: top;\n",
       "    }\n",
       "\n",
       "    .dataframe thead th {\n",
       "        text-align: right;\n",
       "    }\n",
       "</style>\n",
       "<table border=\"1\" class=\"dataframe\">\n",
       "  <thead>\n",
       "    <tr style=\"text-align: right;\">\n",
       "      <th></th>\n",
       "      <th>Respondente</th>\n",
       "      <th>Imagem</th>\n",
       "      <th>Utilitário</th>\n",
       "      <th>Preço</th>\n",
       "      <th>Gênero</th>\n",
       "      <th>Estado Civil</th>\n",
       "      <th>Idade</th>\n",
       "      <th>Filhos</th>\n",
       "      <th>Renda</th>\n",
       "      <th>Pequeno</th>\n",
       "      <th>Protótipo</th>\n",
       "      <th>cluster</th>\n",
       "    </tr>\n",
       "  </thead>\n",
       "  <tbody>\n",
       "    <tr>\n",
       "      <th>59</th>\n",
       "      <td>60</td>\n",
       "      <td>1.28</td>\n",
       "      <td>0.0</td>\n",
       "      <td>3.13</td>\n",
       "      <td>F</td>\n",
       "      <td>Casado</td>\n",
       "      <td>Jovens</td>\n",
       "      <td>Não</td>\n",
       "      <td>A</td>\n",
       "      <td>não</td>\n",
       "      <td>2</td>\n",
       "      <td>3</td>\n",
       "    </tr>\n",
       "  </tbody>\n",
       "</table>\n",
       "</div>"
      ],
      "text/plain": [
       "    Respondente  Imagem  Utilitário  Preço Gênero Estado Civil   Idade Filhos  \\\n",
       "59           60    1.28         0.0   3.13      F       Casado  Jovens    Não   \n",
       "\n",
       "   Renda Pequeno  Protótipo  cluster  \n",
       "59     A     não          2        3  "
      ]
     },
     "execution_count": 101,
     "metadata": {},
     "output_type": "execute_result"
    }
   ],
   "source": [
    "#qual foi a menor nota atribuída ao \"Utilitário\"\n",
    "df[df['Utilitário'] == df['Utilitário'].min()]"
   ]
  },
  {
   "cell_type": "code",
   "execution_count": 102,
   "metadata": {
    "scrolled": true
   },
   "outputs": [
    {
     "data": {
      "text/html": [
       "<div>\n",
       "<style scoped>\n",
       "    .dataframe tbody tr th:only-of-type {\n",
       "        vertical-align: middle;\n",
       "    }\n",
       "\n",
       "    .dataframe tbody tr th {\n",
       "        vertical-align: top;\n",
       "    }\n",
       "\n",
       "    .dataframe thead th {\n",
       "        text-align: right;\n",
       "    }\n",
       "</style>\n",
       "<table border=\"1\" class=\"dataframe\">\n",
       "  <thead>\n",
       "    <tr style=\"text-align: right;\">\n",
       "      <th></th>\n",
       "      <th>Respondente</th>\n",
       "      <th>Imagem</th>\n",
       "      <th>Utilitário</th>\n",
       "      <th>Preço</th>\n",
       "      <th>Gênero</th>\n",
       "      <th>Estado Civil</th>\n",
       "      <th>Idade</th>\n",
       "      <th>Filhos</th>\n",
       "      <th>Renda</th>\n",
       "      <th>Pequeno</th>\n",
       "      <th>Protótipo</th>\n",
       "      <th>cluster</th>\n",
       "    </tr>\n",
       "  </thead>\n",
       "  <tbody>\n",
       "    <tr>\n",
       "      <th>99</th>\n",
       "      <td>100</td>\n",
       "      <td>1.09</td>\n",
       "      <td>4.17</td>\n",
       "      <td>0.52</td>\n",
       "      <td>M</td>\n",
       "      <td>Casado</td>\n",
       "      <td>Seniores</td>\n",
       "      <td>Sim</td>\n",
       "      <td>A</td>\n",
       "      <td>não</td>\n",
       "      <td>3</td>\n",
       "      <td>4</td>\n",
       "    </tr>\n",
       "  </tbody>\n",
       "</table>\n",
       "</div>"
      ],
      "text/plain": [
       "    Respondente  Imagem  Utilitário  Preço Gênero Estado Civil     Idade  \\\n",
       "99          100    1.09        4.17   0.52      M       Casado  Seniores   \n",
       "\n",
       "   Filhos Renda Pequeno  Protótipo  cluster  \n",
       "99    Sim     A     não          3        4  "
      ]
     },
     "execution_count": 102,
     "metadata": {},
     "output_type": "execute_result"
    }
   ],
   "source": [
    "#qual foi a maior nota atribuída ao \"Utilitário\"\n",
    "df[df['Utilitário'] == df['Utilitário'].max()]"
   ]
  },
  {
   "cell_type": "code",
   "execution_count": 103,
   "metadata": {},
   "outputs": [
    {
     "name": "stdout",
     "output_type": "stream",
     "text": [
      "F    47.6\n",
      "Name: Gênero, dtype: float64\n",
      "M    52.4\n",
      "Name: Gênero, dtype: float64\n"
     ]
    }
   ],
   "source": [
    "tot_cons = df['Gênero'].value_counts().sum()\n",
    "tot_consf = df_fem['Gênero'].value_counts()\n",
    "tot_consm = df_masc['Gênero'].value_counts()\n",
    "#calculando percentual de consumidores por Gênero\n",
    "percF = (tot_consf / tot_cons * 100)\n",
    "print(percF)\n",
    "percM = (tot_consm / tot_cons * 100)\n",
    "print(percM)"
   ]
  },
  {
   "cell_type": "code",
   "execution_count": 104,
   "metadata": {},
   "outputs": [
    {
     "data": {
      "text/plain": [
       "<matplotlib.axes._subplots.AxesSubplot at 0x1bd09c29fc8>"
      ]
     },
     "execution_count": 104,
     "metadata": {},
     "output_type": "execute_result"
    },
    {
     "data": {
      "image/png": "[encoded data removed]",
      "text/plain": [
       "<Figure size 432x288 with 1 Axes>"
      ]
     },
     "metadata": {
      "needs_background": "light"
     },
     "output_type": "display_data"
    }
   ],
   "source": [
    "#Gráfico de distribuição de notas de \"Imagem\"\n",
    "df['Imagem'].plot.hist()"
   ]
  },
  {
   "cell_type": "code",
   "execution_count": 105,
   "metadata": {},
   "outputs": [
    {
     "data": {
      "text/plain": [
       "<matplotlib.axes._subplots.AxesSubplot at 0x1bd09ce65c8>"
      ]
     },
     "execution_count": 105,
     "metadata": {},
     "output_type": "execute_result"
    },
    {
     "data": {
      "image/png": "[encoded data removed]",
      "text/plain": [
       "<Figure size 432x288 with 1 Axes>"
      ]
     },
     "metadata": {
      "needs_background": "light"
     },
     "output_type": "display_data"
    }
   ],
   "source": [
    "#mesmo gráfico com mais quantidade de \"detalhe\" (barras)\n",
    "df['Imagem'].plot.hist(bins=100)"
   ]
  },
  {
   "cell_type": "code",
   "execution_count": 106,
   "metadata": {},
   "outputs": [],
   "source": [
    "#importar bibliotecas de gráfico\n",
    "import seaborn as sns\n",
    "import matplotlib.pyplot as plt"
   ]
  },
  {
   "cell_type": "code",
   "execution_count": 107,
   "metadata": {
    "scrolled": true
   },
   "outputs": [
    {
     "data": {
      "text/plain": [
       "<matplotlib.axes._subplots.AxesSubplot at 0x1bd09e6b1c8>"
      ]
     },
     "execution_count": 107,
     "metadata": {},
     "output_type": "execute_result"
    },
    {
     "data": {
      "image/png": "[encoded data removed]",
      "text/plain": [
       "<Figure size 432x288 with 1 Axes>"
      ]
     },
     "metadata": {
      "needs_background": "light"
     },
     "output_type": "display_data"
    }
   ],
   "source": [
    "#biblioteca que melhora o gráfico, parametro kde serve para traçar curva de aproximação\n",
    "sns.distplot(df['Imagem'], bins=100, color='red', kde=False)"
   ]
  },
  {
   "cell_type": "code",
   "execution_count": 111,
   "metadata": {},
   "outputs": [
    {
     "data": {
      "text/plain": [
       "Text(0, 0.5, 'Frequência')"
      ]
     },
     "execution_count": 111,
     "metadata": {},
     "output_type": "execute_result"
    },
    {
     "data": {
      "image/png": "[encoded data removed]",
      "text/plain": [
       "<Figure size 432x288 with 1 Axes>"
      ]
     },
     "metadata": {
      "needs_background": "light"
     },
     "output_type": "display_data"
    }
   ],
   "source": [
    "sns.distplot(df['Preço'], bins=100, color='green', kde=True)\n",
    "#melhorando o gráfico\n",
    "plt.title('Relação Notas atribuídas ao Preço', fontsize=18)\n",
    "plt.xlabel('Preço', fontsize=14)\n",
    "plt.ylabel('Frequência', fontsize=14)"
   ]
  },
  {
   "cell_type": "code",
   "execution_count": 119,
   "metadata": {},
   "outputs": [
    {
     "data": {
      "text/plain": [
       "<matplotlib.axes._subplots.AxesSubplot at 0x1bd0aca8c88>"
      ]
     },
     "execution_count": 119,
     "metadata": {},
     "output_type": "execute_result"
    },
    {
     "data": {
      "image/png": "[encoded data removed]",
      "text/plain": [
       "<Figure size 432x288 with 1 Axes>"
      ]
     },
     "metadata": {
      "needs_background": "light"
     },
     "output_type": "display_data"
    }
   ],
   "source": [
    "sns.swarmplot(data=df, x='Renda', y='Preço')"
   ]
  },
  {
   "cell_type": "code",
   "execution_count": null,
   "metadata": {},
   "outputs": [],
   "source": []
  },
  {
   "cell_type": "code",
   "execution_count": 120,
   "metadata": {},
   "outputs": [],
   "source": [
    "import numpy as np\n",
    "from sklearn.linear_model import LinearRegression\n",
    "import statsmodels.api as sm"
   ]
  },
  {
   "cell_type": "code",
   "execution_count": 127,
   "metadata": {},
   "outputs": [
    {
     "data": {
      "text/html": [
       "<div>\n",
       "<style scoped>\n",
       "    .dataframe tbody tr th:only-of-type {\n",
       "        vertical-align: middle;\n",
       "    }\n",
       "\n",
       "    .dataframe tbody tr th {\n",
       "        vertical-align: top;\n",
       "    }\n",
       "\n",
       "    .dataframe thead th {\n",
       "        text-align: right;\n",
       "    }\n",
       "</style>\n",
       "<table border=\"1\" class=\"dataframe\">\n",
       "  <thead>\n",
       "    <tr style=\"text-align: right;\">\n",
       "      <th></th>\n",
       "      <th>Respondente</th>\n",
       "      <th>Imagem</th>\n",
       "      <th>Utilitário</th>\n",
       "      <th>Preço</th>\n",
       "      <th>Protótipo</th>\n",
       "      <th>cluster</th>\n",
       "    </tr>\n",
       "  </thead>\n",
       "  <tbody>\n",
       "    <tr>\n",
       "      <th>Respondente</th>\n",
       "      <td>1.000000</td>\n",
       "      <td>0.092233</td>\n",
       "      <td>0.041917</td>\n",
       "      <td>-0.038934</td>\n",
       "      <td>0.062902</td>\n",
       "      <td>0.007899</td>\n",
       "    </tr>\n",
       "    <tr>\n",
       "      <th>Imagem</th>\n",
       "      <td>0.092233</td>\n",
       "      <td>1.000000</td>\n",
       "      <td>-0.000462</td>\n",
       "      <td>-0.000255</td>\n",
       "      <td>0.539308</td>\n",
       "      <td>-0.712132</td>\n",
       "    </tr>\n",
       "    <tr>\n",
       "      <th>Utilitário</th>\n",
       "      <td>0.041917</td>\n",
       "      <td>-0.000462</td>\n",
       "      <td>1.000000</td>\n",
       "      <td>0.000005</td>\n",
       "      <td>-0.473835</td>\n",
       "      <td>-0.187132</td>\n",
       "    </tr>\n",
       "    <tr>\n",
       "      <th>Preço</th>\n",
       "      <td>-0.038934</td>\n",
       "      <td>-0.000255</td>\n",
       "      <td>0.000005</td>\n",
       "      <td>1.000000</td>\n",
       "      <td>-0.270644</td>\n",
       "      <td>-0.525820</td>\n",
       "    </tr>\n",
       "    <tr>\n",
       "      <th>Protótipo</th>\n",
       "      <td>0.062902</td>\n",
       "      <td>0.539308</td>\n",
       "      <td>-0.473835</td>\n",
       "      <td>-0.270644</td>\n",
       "      <td>1.000000</td>\n",
       "      <td>-0.098284</td>\n",
       "    </tr>\n",
       "    <tr>\n",
       "      <th>cluster</th>\n",
       "      <td>0.007899</td>\n",
       "      <td>-0.712132</td>\n",
       "      <td>-0.187132</td>\n",
       "      <td>-0.525820</td>\n",
       "      <td>-0.098284</td>\n",
       "      <td>1.000000</td>\n",
       "    </tr>\n",
       "  </tbody>\n",
       "</table>\n",
       "</div>"
      ],
      "text/plain": [
       "             Respondente    Imagem  Utilitário     Preço  Protótipo   cluster\n",
       "Respondente     1.000000  0.092233    0.041917 -0.038934   0.062902  0.007899\n",
       "Imagem          0.092233  1.000000   -0.000462 -0.000255   0.539308 -0.712132\n",
       "Utilitário      0.041917 -0.000462    1.000000  0.000005  -0.473835 -0.187132\n",
       "Preço          -0.038934 -0.000255    0.000005  1.000000  -0.270644 -0.525820\n",
       "Protótipo       0.062902  0.539308   -0.473835 -0.270644   1.000000 -0.098284\n",
       "cluster         0.007899 -0.712132   -0.187132 -0.525820  -0.098284  1.000000"
      ]
     },
     "execution_count": 127,
     "metadata": {},
     "output_type": "execute_result"
    }
   ],
   "source": [
    "#verificação da correlação das variáveis do df\n",
    "data = df\n",
    "data.corr()"
   ]
  },
  {
   "cell_type": "code",
   "execution_count": 129,
   "metadata": {},
   "outputs": [
    {
     "data": {
      "text/plain": [
       "Text(0, 0.5, 'Preço')"
      ]
     },
     "execution_count": 129,
     "metadata": {},
     "output_type": "execute_result"
    },
    {
     "data": {
      "image/png": "[encoded data removed]",
      "text/plain": [
       "<Figure size 648x432 with 1 Axes>"
      ]
     },
     "metadata": {
      "needs_background": "light"
     },
     "output_type": "display_data"
    }
   ],
   "source": [
    "#gráfico de dispersão \"Imagem\" e \"Preço\"\n",
    "figure = plt.figure(figsize=(9,6))\n",
    "plt.scatter(data['Imagem'], data['Preço'])\n",
    "plt.xlabel('Imagem')\n",
    "plt.ylabel('Preço')"
   ]
  },
  {
   "cell_type": "code",
   "execution_count": 145,
   "metadata": {},
   "outputs": [
    {
     "data": {
      "text/plain": [
       "Text(0, 0.5, 'Utilitário')"
      ]
     },
     "execution_count": 145,
     "metadata": {},
     "output_type": "execute_result"
    },
    {
     "data": {
      "image/png": "[encoded data removed]",
      "text/plain": [
       "<Figure size 648x432 with 1 Axes>"
      ]
     },
     "metadata": {
      "needs_background": "light"
     },
     "output_type": "display_data"
    }
   ],
   "source": [
    "#gráfico de dispersão \"Imagem\" e \"Utilitário\"\n",
    "figure = plt.figure(figsize=(9,6))\n",
    "plt.scatter(data['Imagem'], data['Utilitário'])\n",
    "plt.xlabel('Imagem')\n",
    "plt.ylabel('Utilitário')"
   ]
  },
  {
   "cell_type": "code",
   "execution_count": 146,
   "metadata": {
    "scrolled": true
   },
   "outputs": [
    {
     "data": {
      "text/plain": [
       "Text(0, 0.5, 'Utilitário')"
      ]
     },
     "execution_count": 146,
     "metadata": {},
     "output_type": "execute_result"
    },
    {
     "data": {
      "image/png": "[encoded data removed]",
      "text/plain": [
       "<Figure size 648x432 with 1 Axes>"
      ]
     },
     "metadata": {
      "needs_background": "light"
     },
     "output_type": "display_data"
    }
   ],
   "source": [
    "#gráfico de dispersão \"Preço\" e \"Utilitário\"\n",
    "figure = plt.figure(figsize=(9,6))\n",
    "plt.scatter(data['Preço'], data['Utilitário'])\n",
    "plt.xlabel('Preço')\n",
    "plt.ylabel('Utilitário')"
   ]
  }
 ],
 "metadata": {
  "kernelspec": {
   "display_name": "Python 3",
   "language": "python",
   "name": "python3"
  },
  "language_info": {
   "codemirror_mode": {
    "name": "ipython",
    "version": 3
   },
   "file_extension": ".py",
   "mimetype": "text/x-python",
   "name": "python",
   "nbconvert_exporter": "python",
   "pygments_lexer": "ipython3",
   "version": "3.7.6"
  }
 },
 "nbformat": 4,
 "nbformat_minor": 4
}
